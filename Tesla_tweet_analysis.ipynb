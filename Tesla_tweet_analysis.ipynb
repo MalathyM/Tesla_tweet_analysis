{
 "cells": [
  {
   "cell_type": "code",
   "execution_count": 1,
   "metadata": {},
   "outputs": [
    {
     "name": "stderr",
     "output_type": "stream",
     "text": [
      "INFO: {'User-Agent': 'Mozilla/5.0 (Windows; U; Windows NT 6.1; rv:2.2) Gecko/20110201'}\n"
     ]
    }
   ],
   "source": [
    "from twitterscraper import query_tweets\n",
    "import pandas as pd\n",
    "import numpy as np\n",
    "import seaborn as sns\n",
    "import matplotlib.pyplot as plt"
   ]
  },
  {
   "cell_type": "code",
   "execution_count": 2,
   "metadata": {},
   "outputs": [
    {
     "name": "stdout",
     "output_type": "stream",
     "text": [
      "[nltk_data] Downloading package punkt to\n",
      "[nltk_data]     C:\\Users\\Malty\\AppData\\Roaming\\nltk_data...\n",
      "[nltk_data]   Package punkt is already up-to-date!\n",
      "[nltk_data] Downloading package stopwords to\n",
      "[nltk_data]     C:\\Users\\Malty\\AppData\\Roaming\\nltk_data...\n",
      "[nltk_data]   Package stopwords is already up-to-date!\n",
      "[nltk_data] Downloading package wordnet to\n",
      "[nltk_data]     C:\\Users\\Malty\\AppData\\Roaming\\nltk_data...\n",
      "[nltk_data]   Package wordnet is already up-to-date!\n"
     ]
    }
   ],
   "source": [
    "import nltk,string,re\n",
    "nltk.download('punkt')\n",
    "nltk.download('stopwords')\n",
    "nltk.download('wordnet')\n",
    "from nltk.corpus import stopwords\n",
    "from nltk.stem import WordNetLemmatizer\n",
    "import gensim\n",
    "from gensim.models import Word2Vec"
   ]
  },
  {
   "cell_type": "code",
   "execution_count": 3,
   "metadata": {},
   "outputs": [],
   "source": [
    "lang='english'"
   ]
  },
  {
   "cell_type": "code",
   "execution_count": 4,
   "metadata": {},
   "outputs": [
    {
     "name": "stderr",
     "output_type": "stream",
     "text": [
      "INFO: queries: ['Tesla3 OR TeslaModel3 OR Model3 OR tesla3 OR model3 OR teslamodel3 OR #tesla OR #Tesla OR #Model3 OR #model3 OR #TeslaModel3 OR #teslamodel3 since:2006-03-21 until:2006-12-05', 'Tesla3 OR TeslaModel3 OR Model3 OR tesla3 OR model3 OR teslamodel3 OR #tesla OR #Tesla OR #Model3 OR #model3 OR #TeslaModel3 OR #teslamodel3 since:2006-12-05 until:2007-08-21', 'Tesla3 OR TeslaModel3 OR Model3 OR tesla3 OR model3 OR teslamodel3 OR #tesla OR #Tesla OR #Model3 OR #model3 OR #TeslaModel3 OR #teslamodel3 since:2007-08-21 until:2008-05-06', 'Tesla3 OR TeslaModel3 OR Model3 OR tesla3 OR model3 OR teslamodel3 OR #tesla OR #Tesla OR #Model3 OR #model3 OR #TeslaModel3 OR #teslamodel3 since:2008-05-06 until:2009-01-20', 'Tesla3 OR TeslaModel3 OR Model3 OR tesla3 OR model3 OR teslamodel3 OR #tesla OR #Tesla OR #Model3 OR #model3 OR #TeslaModel3 OR #teslamodel3 since:2009-01-20 until:2009-10-06', 'Tesla3 OR TeslaModel3 OR Model3 OR tesla3 OR model3 OR teslamodel3 OR #tesla OR #Tesla OR #Model3 OR #model3 OR #TeslaModel3 OR #teslamodel3 since:2009-10-06 until:2010-06-22', 'Tesla3 OR TeslaModel3 OR Model3 OR tesla3 OR model3 OR teslamodel3 OR #tesla OR #Tesla OR #Model3 OR #model3 OR #TeslaModel3 OR #teslamodel3 since:2010-06-22 until:2011-03-08', 'Tesla3 OR TeslaModel3 OR Model3 OR tesla3 OR model3 OR teslamodel3 OR #tesla OR #Tesla OR #Model3 OR #model3 OR #TeslaModel3 OR #teslamodel3 since:2011-03-08 until:2011-11-22', 'Tesla3 OR TeslaModel3 OR Model3 OR tesla3 OR model3 OR teslamodel3 OR #tesla OR #Tesla OR #Model3 OR #model3 OR #TeslaModel3 OR #teslamodel3 since:2011-11-22 until:2012-08-07', 'Tesla3 OR TeslaModel3 OR Model3 OR tesla3 OR model3 OR teslamodel3 OR #tesla OR #Tesla OR #Model3 OR #model3 OR #TeslaModel3 OR #teslamodel3 since:2012-08-07 until:2013-04-23', 'Tesla3 OR TeslaModel3 OR Model3 OR tesla3 OR model3 OR teslamodel3 OR #tesla OR #Tesla OR #Model3 OR #model3 OR #TeslaModel3 OR #teslamodel3 since:2013-04-23 until:2014-01-07', 'Tesla3 OR TeslaModel3 OR Model3 OR tesla3 OR model3 OR teslamodel3 OR #tesla OR #Tesla OR #Model3 OR #model3 OR #TeslaModel3 OR #teslamodel3 since:2014-01-07 until:2014-09-23', 'Tesla3 OR TeslaModel3 OR Model3 OR tesla3 OR model3 OR teslamodel3 OR #tesla OR #Tesla OR #Model3 OR #model3 OR #TeslaModel3 OR #teslamodel3 since:2014-09-23 until:2015-06-09', 'Tesla3 OR TeslaModel3 OR Model3 OR tesla3 OR model3 OR teslamodel3 OR #tesla OR #Tesla OR #Model3 OR #model3 OR #TeslaModel3 OR #teslamodel3 since:2015-06-09 until:2016-02-23', 'Tesla3 OR TeslaModel3 OR Model3 OR tesla3 OR model3 OR teslamodel3 OR #tesla OR #Tesla OR #Model3 OR #model3 OR #TeslaModel3 OR #teslamodel3 since:2016-02-23 until:2016-11-08', 'Tesla3 OR TeslaModel3 OR Model3 OR tesla3 OR model3 OR teslamodel3 OR #tesla OR #Tesla OR #Model3 OR #model3 OR #TeslaModel3 OR #teslamodel3 since:2016-11-08 until:2017-07-25', 'Tesla3 OR TeslaModel3 OR Model3 OR tesla3 OR model3 OR teslamodel3 OR #tesla OR #Tesla OR #Model3 OR #model3 OR #TeslaModel3 OR #teslamodel3 since:2017-07-25 until:2018-04-10', 'Tesla3 OR TeslaModel3 OR Model3 OR tesla3 OR model3 OR teslamodel3 OR #tesla OR #Tesla OR #Model3 OR #model3 OR #TeslaModel3 OR #teslamodel3 since:2018-04-10 until:2018-12-25', 'Tesla3 OR TeslaModel3 OR Model3 OR tesla3 OR model3 OR teslamodel3 OR #tesla OR #Tesla OR #Model3 OR #model3 OR #TeslaModel3 OR #teslamodel3 since:2018-12-25 until:2019-09-10', 'Tesla3 OR TeslaModel3 OR Model3 OR tesla3 OR model3 OR teslamodel3 OR #tesla OR #Tesla OR #Model3 OR #model3 OR #TeslaModel3 OR #teslamodel3 since:2019-09-10 until:2020-05-27']\n",
      "INFO: Got 10 tweets (10 new).\n",
      "INFO: Got 61 tweets (51 new).\n",
      "INFO: Got 61 tweets (0 new).\n",
      "INFO: Got 61 tweets (0 new).\n",
      "INFO: Got 1061 tweets (1000 new).\n",
      "INFO: Got 1978 tweets (917 new).\n",
      "INFO: Got 2865 tweets (887 new).\n",
      "INFO: Got 3862 tweets (997 new).\n",
      "INFO: Got 4732 tweets (870 new).\n",
      "INFO: Got 5473 tweets (741 new).\n",
      "INFO: Got 6346 tweets (873 new).\n",
      "INFO: Got 7262 tweets (916 new).\n",
      "INFO: Got 8199 tweets (937 new).\n",
      "INFO: Got 9125 tweets (926 new).\n",
      "INFO: Got 9951 tweets (826 new).\n",
      "INFO: Got 10949 tweets (998 new).\n",
      "INFO: Got 11823 tweets (874 new).\n",
      "INFO: Got 12644 tweets (821 new).\n",
      "INFO: Got 13498 tweets (854 new).\n",
      "INFO: Got 14283 tweets (785 new).\n"
     ]
    }
   ],
   "source": [
    "tweets = query_tweets(\"Tesla3 OR TeslaModel3 OR Model3 OR tesla3 OR model3 OR teslamodel3 OR #tesla OR #Tesla OR #Model3 OR #model3 OR #TeslaModel3 OR #teslamodel3\",lang=lang)"
   ]
  },
  {
   "cell_type": "code",
   "execution_count": 5,
   "metadata": {},
   "outputs": [],
   "source": [
    "df=pd.DataFrame(t.__dict__ for t in tweets)"
   ]
  },
  {
   "cell_type": "code",
   "execution_count": 6,
   "metadata": {},
   "outputs": [
    {
     "data": {
      "text/plain": [
       "(14315, 21)"
      ]
     },
     "execution_count": 6,
     "metadata": {},
     "output_type": "execute_result"
    }
   ],
   "source": [
    "df.shape"
   ]
  },
  {
   "cell_type": "code",
   "execution_count": 7,
   "metadata": {},
   "outputs": [
    {
     "data": {
      "text/html": [
       "<div>\n",
       "<style scoped>\n",
       "    .dataframe tbody tr th:only-of-type {\n",
       "        vertical-align: middle;\n",
       "    }\n",
       "\n",
       "    .dataframe tbody tr th {\n",
       "        vertical-align: top;\n",
       "    }\n",
       "\n",
       "    .dataframe thead th {\n",
       "        text-align: right;\n",
       "    }\n",
       "</style>\n",
       "<table border=\"1\" class=\"dataframe\">\n",
       "  <thead>\n",
       "    <tr style=\"text-align: right;\">\n",
       "      <th></th>\n",
       "      <th>has_media</th>\n",
       "      <th>hashtags</th>\n",
       "      <th>img_urls</th>\n",
       "      <th>is_replied</th>\n",
       "      <th>is_reply_to</th>\n",
       "      <th>likes</th>\n",
       "      <th>links</th>\n",
       "      <th>parent_tweet_id</th>\n",
       "      <th>replies</th>\n",
       "      <th>reply_to_users</th>\n",
       "      <th>...</th>\n",
       "      <th>screen_name</th>\n",
       "      <th>text</th>\n",
       "      <th>text_html</th>\n",
       "      <th>timestamp</th>\n",
       "      <th>timestamp_epochs</th>\n",
       "      <th>tweet_id</th>\n",
       "      <th>tweet_url</th>\n",
       "      <th>user_id</th>\n",
       "      <th>username</th>\n",
       "      <th>video_url</th>\n",
       "    </tr>\n",
       "  </thead>\n",
       "  <tbody>\n",
       "    <tr>\n",
       "      <th>0</th>\n",
       "      <td>False</td>\n",
       "      <td>[Tesla]</td>\n",
       "      <td>[]</td>\n",
       "      <td>False</td>\n",
       "      <td>True</td>\n",
       "      <td>0</td>\n",
       "      <td>[]</td>\n",
       "      <td>796632634</td>\n",
       "      <td>0</td>\n",
       "      <td>[{'screen_name': 'melissa', 'user_id': '140190...</td>\n",
       "      <td>...</td>\n",
       "      <td>mcmurrak</td>\n",
       "      <td>@girk I'm working on that one. I think #Tesla ...</td>\n",
       "      <td>&lt;p class=\"TweetTextSize js-tweet-text tweet-te...</td>\n",
       "      <td>2008-04-25 10:44:41</td>\n",
       "      <td>1209120281</td>\n",
       "      <td>796632857</td>\n",
       "      <td>/mcmurrak/status/796632857</td>\n",
       "      <td>662683</td>\n",
       "      <td>Kirk McMurray</td>\n",
       "      <td></td>\n",
       "    </tr>\n",
       "    <tr>\n",
       "      <th>1</th>\n",
       "      <td>False</td>\n",
       "      <td>[sxsw, sxswi, eff, tesla]</td>\n",
       "      <td>[]</td>\n",
       "      <td>False</td>\n",
       "      <td>False</td>\n",
       "      <td>0</td>\n",
       "      <td>[]</td>\n",
       "      <td></td>\n",
       "      <td>0</td>\n",
       "      <td>[]</td>\n",
       "      <td>...</td>\n",
       "      <td>cookiecrook</td>\n",
       "      <td>does anyone know if the plutopia/eff singing t...</td>\n",
       "      <td>&lt;p class=\"TweetTextSize js-tweet-text tweet-te...</td>\n",
       "      <td>2008-03-10 20:29:48</td>\n",
       "      <td>1205180988</td>\n",
       "      <td>769487793</td>\n",
       "      <td>/cookiecrook/status/769487793</td>\n",
       "      <td>33233</td>\n",
       "      <td>James Craig</td>\n",
       "      <td></td>\n",
       "    </tr>\n",
       "    <tr>\n",
       "      <th>2</th>\n",
       "      <td>False</td>\n",
       "      <td>[Tesla]</td>\n",
       "      <td>[]</td>\n",
       "      <td>False</td>\n",
       "      <td>True</td>\n",
       "      <td>0</td>\n",
       "      <td>[]</td>\n",
       "      <td>709507532</td>\n",
       "      <td>0</td>\n",
       "      <td>[{'screen_name': 't_koeppen', 'user_id': '6159...</td>\n",
       "      <td>...</td>\n",
       "      <td>briansolis</td>\n",
       "      <td>Thx to @djsiry for bringing the #Tesla last ni...</td>\n",
       "      <td>&lt;p class=\"TweetTextSize js-tweet-text tweet-te...</td>\n",
       "      <td>2008-02-14 14:15:57</td>\n",
       "      <td>1202998557</td>\n",
       "      <td>711618002</td>\n",
       "      <td>/briansolis/status/711618002</td>\n",
       "      <td>11489</td>\n",
       "      <td>Brian Solis</td>\n",
       "      <td></td>\n",
       "    </tr>\n",
       "    <tr>\n",
       "      <th>3</th>\n",
       "      <td>False</td>\n",
       "      <td>[]</td>\n",
       "      <td>[]</td>\n",
       "      <td>False</td>\n",
       "      <td>False</td>\n",
       "      <td>0</td>\n",
       "      <td>[]</td>\n",
       "      <td></td>\n",
       "      <td>0</td>\n",
       "      <td>[]</td>\n",
       "      <td>...</td>\n",
       "      <td>XYRS</td>\n",
       "      <td>2000は変更点は使用基板変更(MODEL3→NAOMI)と機体3体追加、VM対応化、ゲーム...</td>\n",
       "      <td>&lt;p class=\"TweetTextSize js-tweet-text tweet-te...</td>\n",
       "      <td>2007-11-24 10:29:16</td>\n",
       "      <td>1195900156</td>\n",
       "      <td>439716052</td>\n",
       "      <td>/XYRS/status/439716052</td>\n",
       "      <td>10075632</td>\n",
       "      <td>XYRS</td>\n",
       "      <td></td>\n",
       "    </tr>\n",
       "    <tr>\n",
       "      <th>4</th>\n",
       "      <td>False</td>\n",
       "      <td>[Tesla]</td>\n",
       "      <td>[]</td>\n",
       "      <td>False</td>\n",
       "      <td>True</td>\n",
       "      <td>0</td>\n",
       "      <td>[]</td>\n",
       "      <td>796632634</td>\n",
       "      <td>0</td>\n",
       "      <td>[{'screen_name': 'melissa', 'user_id': '140190...</td>\n",
       "      <td>...</td>\n",
       "      <td>mcmurrak</td>\n",
       "      <td>@girk I'm working on that one. I think #Tesla ...</td>\n",
       "      <td>&lt;p class=\"TweetTextSize js-tweet-text tweet-te...</td>\n",
       "      <td>2008-04-25 10:44:41</td>\n",
       "      <td>1209120281</td>\n",
       "      <td>796632857</td>\n",
       "      <td>/mcmurrak/status/796632857</td>\n",
       "      <td>662683</td>\n",
       "      <td>Kirk McMurray</td>\n",
       "      <td></td>\n",
       "    </tr>\n",
       "  </tbody>\n",
       "</table>\n",
       "<p>5 rows × 21 columns</p>\n",
       "</div>"
      ],
      "text/plain": [
       "   has_media                   hashtags img_urls  is_replied  is_reply_to  \\\n",
       "0      False                    [Tesla]       []       False         True   \n",
       "1      False  [sxsw, sxswi, eff, tesla]       []       False        False   \n",
       "2      False                    [Tesla]       []       False         True   \n",
       "3      False                         []       []       False        False   \n",
       "4      False                    [Tesla]       []       False         True   \n",
       "\n",
       "   likes links parent_tweet_id  replies  \\\n",
       "0      0    []       796632634        0   \n",
       "1      0    []                        0   \n",
       "2      0    []       709507532        0   \n",
       "3      0    []                        0   \n",
       "4      0    []       796632634        0   \n",
       "\n",
       "                                      reply_to_users    ...     screen_name  \\\n",
       "0  [{'screen_name': 'melissa', 'user_id': '140190...    ...        mcmurrak   \n",
       "1                                                 []    ...     cookiecrook   \n",
       "2  [{'screen_name': 't_koeppen', 'user_id': '6159...    ...      briansolis   \n",
       "3                                                 []    ...            XYRS   \n",
       "4  [{'screen_name': 'melissa', 'user_id': '140190...    ...        mcmurrak   \n",
       "\n",
       "                                                text  \\\n",
       "0  @girk I'm working on that one. I think #Tesla ...   \n",
       "1  does anyone know if the plutopia/eff singing t...   \n",
       "2  Thx to @djsiry for bringing the #Tesla last ni...   \n",
       "3  2000は変更点は使用基板変更(MODEL3→NAOMI)と機体3体追加、VM対応化、ゲーム...   \n",
       "4  @girk I'm working on that one. I think #Tesla ...   \n",
       "\n",
       "                                           text_html           timestamp  \\\n",
       "0  <p class=\"TweetTextSize js-tweet-text tweet-te... 2008-04-25 10:44:41   \n",
       "1  <p class=\"TweetTextSize js-tweet-text tweet-te... 2008-03-10 20:29:48   \n",
       "2  <p class=\"TweetTextSize js-tweet-text tweet-te... 2008-02-14 14:15:57   \n",
       "3  <p class=\"TweetTextSize js-tweet-text tweet-te... 2007-11-24 10:29:16   \n",
       "4  <p class=\"TweetTextSize js-tweet-text tweet-te... 2008-04-25 10:44:41   \n",
       "\n",
       "  timestamp_epochs   tweet_id                      tweet_url   user_id  \\\n",
       "0       1209120281  796632857     /mcmurrak/status/796632857    662683   \n",
       "1       1205180988  769487793  /cookiecrook/status/769487793     33233   \n",
       "2       1202998557  711618002   /briansolis/status/711618002     11489   \n",
       "3       1195900156  439716052         /XYRS/status/439716052  10075632   \n",
       "4       1209120281  796632857     /mcmurrak/status/796632857    662683   \n",
       "\n",
       "        username video_url  \n",
       "0  Kirk McMurray            \n",
       "1    James Craig            \n",
       "2    Brian Solis            \n",
       "3           XYRS            \n",
       "4  Kirk McMurray            \n",
       "\n",
       "[5 rows x 21 columns]"
      ]
     },
     "execution_count": 7,
     "metadata": {},
     "output_type": "execute_result"
    }
   ],
   "source": [
    "df.head()"
   ]
  },
  {
   "cell_type": "code",
   "execution_count": 8,
   "metadata": {},
   "outputs": [
    {
     "data": {
      "text/plain": [
       "has_media           0\n",
       "hashtags            0\n",
       "img_urls            0\n",
       "is_replied          0\n",
       "is_reply_to         0\n",
       "likes               0\n",
       "links               0\n",
       "parent_tweet_id     0\n",
       "replies             0\n",
       "reply_to_users      0\n",
       "retweets            0\n",
       "screen_name         0\n",
       "text                0\n",
       "text_html           0\n",
       "timestamp           0\n",
       "timestamp_epochs    0\n",
       "tweet_id            0\n",
       "tweet_url           0\n",
       "user_id             0\n",
       "username            0\n",
       "video_url           0\n",
       "dtype: int64"
      ]
     },
     "execution_count": 8,
     "metadata": {},
     "output_type": "execute_result"
    }
   ],
   "source": [
    "df.isnull().sum()"
   ]
  },
  {
   "cell_type": "code",
   "execution_count": 9,
   "metadata": {},
   "outputs": [
    {
     "name": "stdout",
     "output_type": "stream",
     "text": [
      "Before processing\n",
      "@girk I'm working on that one. I think #Tesla was close... ;)\n"
     ]
    }
   ],
   "source": [
    "#Before processing\n",
    "print(\"Before processing\")\n",
    "print(df['text'][0])"
   ]
  },
  {
   "cell_type": "code",
   "execution_count": 10,
   "metadata": {},
   "outputs": [],
   "source": [
    "#tokenize tweets to sentences\n",
    "df['text'] = df['text'].apply(lambda x: nltk.sent_tokenize(x))"
   ]
  },
  {
   "cell_type": "code",
   "execution_count": 11,
   "metadata": {},
   "outputs": [],
   "source": [
    "#tokenize sentences to words\n",
    "df['text'] = df['text'].apply(lambda x: [nltk.word_tokenize(sent) for sent in x])"
   ]
  },
  {
   "cell_type": "code",
   "execution_count": 12,
   "metadata": {},
   "outputs": [],
   "source": [
    "#change all the words to lower case\n",
    "df['text'] = df['text'].apply(lambda x : [[wrd.lower() for wrd in sent] for sent in x])"
   ]
  },
  {
   "cell_type": "code",
   "execution_count": 13,
   "metadata": {},
   "outputs": [],
   "source": [
    "#remove all the white spaces\n",
    "df['text'] = df['text'].apply(lambda x: [[wrd.strip() for wrd in sent if wrd!=' '] for sent in x])"
   ]
  },
  {
   "cell_type": "code",
   "execution_count": 14,
   "metadata": {},
   "outputs": [],
   "source": [
    "#removing the stop words\n",
    "stop_words = set(stopwords.words('english'))\n",
    "df['text'] = df['text'].apply(lambda x: [[wrd for wrd in sent if not wrd in stop_words] for sent in x])"
   ]
  },
  {
   "cell_type": "code",
   "execution_count": 15,
   "metadata": {},
   "outputs": [],
   "source": [
    "#removing punctuation marks \n",
    "punct = str.maketrans('','',string.punctuation)\n",
    "df['text'] = df['text'].apply(lambda x: [[wrd.translate(punct) for wrd in sent] for sent in x])"
   ]
  },
  {
   "cell_type": "code",
   "execution_count": 16,
   "metadata": {},
   "outputs": [],
   "source": [
    "#removing non alphabetic characters\n",
    "df['text'] = df['text'].apply(lambda x: [[wrd for wrd in sent if wrd.isalpha()] for sent in x])"
   ]
  },
  {
   "cell_type": "code",
   "execution_count": 17,
   "metadata": {},
   "outputs": [],
   "source": [
    "#lemmatization \n",
    "lemmatizer = WordNetLemmatizer()\n",
    "df['text'] = df['text'].apply(lambda x: [[lemmatizer.lemmatize(wrd.strip()) for wrd in sent] for sent in x])"
   ]
  },
  {
   "cell_type": "code",
   "execution_count": 18,
   "metadata": {},
   "outputs": [],
   "source": [
    "#removing single characters\n",
    "df['text'] = df['text'].apply(lambda x: [[wrd for wrd in sent if len(wrd)>2] for sent in x])"
   ]
  },
  {
   "cell_type": "code",
   "execution_count": 19,
   "metadata": {},
   "outputs": [],
   "source": [
    "#reformatting the text column to single text and not nested lists\n",
    "df['text'] = df['text'].apply(lambda x: [' '.join(wrd) for wrd in x])\n",
    "df['text'] = df['text'].apply(lambda x:' '.join(x))"
   ]
  },
  {
   "cell_type": "code",
   "execution_count": 20,
   "metadata": {},
   "outputs": [
    {
     "name": "stdout",
     "output_type": "stream",
     "text": [
      "girk working one think tesla close\n"
     ]
    }
   ],
   "source": [
    "#after processing\n",
    "print(df['text'][0])"
   ]
  },
  {
   "cell_type": "code",
   "execution_count": 21,
   "metadata": {},
   "outputs": [],
   "source": [
    "#TF IDF for text column\n",
    "from sklearn.feature_extraction.text import TfidfVectorizer\n",
    "tfidf_vectorizer = TfidfVectorizer(use_idf=True)\n",
    "tfidf_text = tfidf_vectorizer.fit_transform(df['text'])"
   ]
  },
  {
   "cell_type": "code",
   "execution_count": 22,
   "metadata": {},
   "outputs": [],
   "source": [
    "#TF IDF o/p vectors\n",
    "from sklearn.decomposition import PCA\n",
    "tfidf_pca = PCA(n_components = 2)\n",
    "tfidf_pca_comp = tfidf_pca.fit_transform(tfidf_text.toarray())"
   ]
  },
  {
   "cell_type": "code",
   "execution_count": 23,
   "metadata": {},
   "outputs": [
    {
     "data": {
      "text/plain": [
       "(14315, 2)"
      ]
     },
     "execution_count": 23,
     "metadata": {},
     "output_type": "execute_result"
    }
   ],
   "source": [
    "tfidf_pca_comp.shape"
   ]
  },
  {
   "cell_type": "code",
   "execution_count": 24,
   "metadata": {},
   "outputs": [],
   "source": [
    "clusters=[]\n",
    "kmeans_scores=[]"
   ]
  },
  {
   "cell_type": "code",
   "execution_count": 25,
   "metadata": {},
   "outputs": [
    {
     "data": {
      "image/png": "[encoded data removed]",
      "text/plain": [
       "<Figure size 432x288 with 1 Axes>"
      ]
     },
     "metadata": {
      "needs_background": "light"
     },
     "output_type": "display_data"
    }
   ],
   "source": [
    "from sklearn.cluster import KMeans\n",
    "K=range(2,20)\n",
    "for k in K:\n",
    "    k_means = KMeans(n_clusters=k)\n",
    "    k_means.fit(tfidf_pca_comp)\n",
    "    kmeans_scores.append(k_means.score(tfidf_pca_comp))\n",
    "    clusters.append(k)\n",
    "plt.scatter(clusters,kmeans_scores)\n",
    "plt.title(\"Elbow method to find value of k\")\n",
    "plt.xlabel(\"No: of clusters\")\n",
    "plt.ylabel(\"Score\")\n",
    "plt.show()"
   ]
  },
  {
   "cell_type": "code",
   "execution_count": 26,
   "metadata": {},
   "outputs": [
    {
     "data": {
      "image/png": "[encoded data removed]",
      "text/plain": [
       "<Figure size 1440x1440 with 1 Axes>"
      ]
     },
     "metadata": {
      "needs_background": "light"
     },
     "output_type": "display_data"
    }
   ],
   "source": [
    "k_means=KMeans(n_clusters=5)\n",
    "k_means.fit(tfidf_pca_comp)\n",
    "pred=k_means.predict(tfidf_pca_comp)\n",
    "plt.figure(figsize=(20,20))\n",
    "plt.scatter(tfidf_pca_comp[:,0],tfidf_pca_comp[:,1],c=pred)\n",
    "plt.show()"
   ]
  },
  {
   "cell_type": "code",
   "execution_count": 27,
   "metadata": {},
   "outputs": [
    {
     "data": {
      "text/html": [
       "<div>\n",
       "<style scoped>\n",
       "    .dataframe tbody tr th:only-of-type {\n",
       "        vertical-align: middle;\n",
       "    }\n",
       "\n",
       "    .dataframe tbody tr th {\n",
       "        vertical-align: top;\n",
       "    }\n",
       "\n",
       "    .dataframe thead th {\n",
       "        text-align: right;\n",
       "    }\n",
       "</style>\n",
       "<table border=\"1\" class=\"dataframe\">\n",
       "  <thead>\n",
       "    <tr style=\"text-align: right;\">\n",
       "      <th></th>\n",
       "      <th>has_media</th>\n",
       "      <th>hashtags</th>\n",
       "      <th>img_urls</th>\n",
       "      <th>is_replied</th>\n",
       "      <th>is_reply_to</th>\n",
       "      <th>likes</th>\n",
       "      <th>links</th>\n",
       "      <th>parent_tweet_id</th>\n",
       "      <th>replies</th>\n",
       "      <th>reply_to_users</th>\n",
       "      <th>...</th>\n",
       "      <th>text_html</th>\n",
       "      <th>timestamp</th>\n",
       "      <th>timestamp_epochs</th>\n",
       "      <th>tweet_id</th>\n",
       "      <th>tweet_url</th>\n",
       "      <th>user_id</th>\n",
       "      <th>username</th>\n",
       "      <th>video_url</th>\n",
       "      <th>tfidf</th>\n",
       "      <th>tfidf_clusters</th>\n",
       "    </tr>\n",
       "  </thead>\n",
       "  <tbody>\n",
       "    <tr>\n",
       "      <th>0</th>\n",
       "      <td>False</td>\n",
       "      <td>[Tesla]</td>\n",
       "      <td>[]</td>\n",
       "      <td>False</td>\n",
       "      <td>True</td>\n",
       "      <td>0</td>\n",
       "      <td>[]</td>\n",
       "      <td>796632634</td>\n",
       "      <td>0</td>\n",
       "      <td>[{'screen_name': 'melissa', 'user_id': '140190...</td>\n",
       "      <td>...</td>\n",
       "      <td>&lt;p class=\"TweetTextSize js-tweet-text tweet-te...</td>\n",
       "      <td>2008-04-25 10:44:41</td>\n",
       "      <td>1209120281</td>\n",
       "      <td>796632857</td>\n",
       "      <td>/mcmurrak/status/796632857</td>\n",
       "      <td>662683</td>\n",
       "      <td>Kirk McMurray</td>\n",
       "      <td></td>\n",
       "      <td>(0, 8896)\\t0.6162532859899589\\n  (0, 23905)\\...</td>\n",
       "      <td>2</td>\n",
       "    </tr>\n",
       "    <tr>\n",
       "      <th>1</th>\n",
       "      <td>False</td>\n",
       "      <td>[sxsw, sxswi, eff, tesla]</td>\n",
       "      <td>[]</td>\n",
       "      <td>False</td>\n",
       "      <td>False</td>\n",
       "      <td>0</td>\n",
       "      <td>[]</td>\n",
       "      <td></td>\n",
       "      <td>0</td>\n",
       "      <td>[]</td>\n",
       "      <td>...</td>\n",
       "      <td>&lt;p class=\"TweetTextSize js-tweet-text tweet-te...</td>\n",
       "      <td>2008-03-10 20:29:48</td>\n",
       "      <td>1205180988</td>\n",
       "      <td>769487793</td>\n",
       "      <td>/cookiecrook/status/769487793</td>\n",
       "      <td>33233</td>\n",
       "      <td>James Craig</td>\n",
       "      <td></td>\n",
       "      <td>(0, 8896)\\t0.6162532859899589\\n  (0, 23905)\\...</td>\n",
       "      <td>2</td>\n",
       "    </tr>\n",
       "    <tr>\n",
       "      <th>2</th>\n",
       "      <td>False</td>\n",
       "      <td>[Tesla]</td>\n",
       "      <td>[]</td>\n",
       "      <td>False</td>\n",
       "      <td>True</td>\n",
       "      <td>0</td>\n",
       "      <td>[]</td>\n",
       "      <td>709507532</td>\n",
       "      <td>0</td>\n",
       "      <td>[{'screen_name': 't_koeppen', 'user_id': '6159...</td>\n",
       "      <td>...</td>\n",
       "      <td>&lt;p class=\"TweetTextSize js-tweet-text tweet-te...</td>\n",
       "      <td>2008-02-14 14:15:57</td>\n",
       "      <td>1202998557</td>\n",
       "      <td>711618002</td>\n",
       "      <td>/briansolis/status/711618002</td>\n",
       "      <td>11489</td>\n",
       "      <td>Brian Solis</td>\n",
       "      <td></td>\n",
       "      <td>(0, 8896)\\t0.6162532859899589\\n  (0, 23905)\\...</td>\n",
       "      <td>4</td>\n",
       "    </tr>\n",
       "    <tr>\n",
       "      <th>3</th>\n",
       "      <td>False</td>\n",
       "      <td>[]</td>\n",
       "      <td>[]</td>\n",
       "      <td>False</td>\n",
       "      <td>False</td>\n",
       "      <td>0</td>\n",
       "      <td>[]</td>\n",
       "      <td></td>\n",
       "      <td>0</td>\n",
       "      <td>[]</td>\n",
       "      <td>...</td>\n",
       "      <td>&lt;p class=\"TweetTextSize js-tweet-text tweet-te...</td>\n",
       "      <td>2007-11-24 10:29:16</td>\n",
       "      <td>1195900156</td>\n",
       "      <td>439716052</td>\n",
       "      <td>/XYRS/status/439716052</td>\n",
       "      <td>10075632</td>\n",
       "      <td>XYRS</td>\n",
       "      <td></td>\n",
       "      <td>(0, 8896)\\t0.6162532859899589\\n  (0, 23905)\\...</td>\n",
       "      <td>2</td>\n",
       "    </tr>\n",
       "    <tr>\n",
       "      <th>4</th>\n",
       "      <td>False</td>\n",
       "      <td>[Tesla]</td>\n",
       "      <td>[]</td>\n",
       "      <td>False</td>\n",
       "      <td>True</td>\n",
       "      <td>0</td>\n",
       "      <td>[]</td>\n",
       "      <td>796632634</td>\n",
       "      <td>0</td>\n",
       "      <td>[{'screen_name': 'melissa', 'user_id': '140190...</td>\n",
       "      <td>...</td>\n",
       "      <td>&lt;p class=\"TweetTextSize js-tweet-text tweet-te...</td>\n",
       "      <td>2008-04-25 10:44:41</td>\n",
       "      <td>1209120281</td>\n",
       "      <td>796632857</td>\n",
       "      <td>/mcmurrak/status/796632857</td>\n",
       "      <td>662683</td>\n",
       "      <td>Kirk McMurray</td>\n",
       "      <td></td>\n",
       "      <td>(0, 8896)\\t0.6162532859899589\\n  (0, 23905)\\...</td>\n",
       "      <td>2</td>\n",
       "    </tr>\n",
       "  </tbody>\n",
       "</table>\n",
       "<p>5 rows × 23 columns</p>\n",
       "</div>"
      ],
      "text/plain": [
       "   has_media                   hashtags img_urls  is_replied  is_reply_to  \\\n",
       "0      False                    [Tesla]       []       False         True   \n",
       "1      False  [sxsw, sxswi, eff, tesla]       []       False        False   \n",
       "2      False                    [Tesla]       []       False         True   \n",
       "3      False                         []       []       False        False   \n",
       "4      False                    [Tesla]       []       False         True   \n",
       "\n",
       "   likes links parent_tweet_id  replies  \\\n",
       "0      0    []       796632634        0   \n",
       "1      0    []                        0   \n",
       "2      0    []       709507532        0   \n",
       "3      0    []                        0   \n",
       "4      0    []       796632634        0   \n",
       "\n",
       "                                      reply_to_users      ...        \\\n",
       "0  [{'screen_name': 'melissa', 'user_id': '140190...      ...         \n",
       "1                                                 []      ...         \n",
       "2  [{'screen_name': 't_koeppen', 'user_id': '6159...      ...         \n",
       "3                                                 []      ...         \n",
       "4  [{'screen_name': 'melissa', 'user_id': '140190...      ...         \n",
       "\n",
       "                                           text_html           timestamp  \\\n",
       "0  <p class=\"TweetTextSize js-tweet-text tweet-te... 2008-04-25 10:44:41   \n",
       "1  <p class=\"TweetTextSize js-tweet-text tweet-te... 2008-03-10 20:29:48   \n",
       "2  <p class=\"TweetTextSize js-tweet-text tweet-te... 2008-02-14 14:15:57   \n",
       "3  <p class=\"TweetTextSize js-tweet-text tweet-te... 2007-11-24 10:29:16   \n",
       "4  <p class=\"TweetTextSize js-tweet-text tweet-te... 2008-04-25 10:44:41   \n",
       "\n",
       "  timestamp_epochs   tweet_id                      tweet_url   user_id  \\\n",
       "0       1209120281  796632857     /mcmurrak/status/796632857    662683   \n",
       "1       1205180988  769487793  /cookiecrook/status/769487793     33233   \n",
       "2       1202998557  711618002   /briansolis/status/711618002     11489   \n",
       "3       1195900156  439716052         /XYRS/status/439716052  10075632   \n",
       "4       1209120281  796632857     /mcmurrak/status/796632857    662683   \n",
       "\n",
       "        username video_url                                              tfidf  \\\n",
       "0  Kirk McMurray              (0, 8896)\\t0.6162532859899589\\n  (0, 23905)\\...   \n",
       "1    James Craig              (0, 8896)\\t0.6162532859899589\\n  (0, 23905)\\...   \n",
       "2    Brian Solis              (0, 8896)\\t0.6162532859899589\\n  (0, 23905)\\...   \n",
       "3           XYRS              (0, 8896)\\t0.6162532859899589\\n  (0, 23905)\\...   \n",
       "4  Kirk McMurray              (0, 8896)\\t0.6162532859899589\\n  (0, 23905)\\...   \n",
       "\n",
       "  tfidf_clusters  \n",
       "0              2  \n",
       "1              2  \n",
       "2              4  \n",
       "3              2  \n",
       "4              2  \n",
       "\n",
       "[5 rows x 23 columns]"
      ]
     },
     "execution_count": 27,
     "metadata": {},
     "output_type": "execute_result"
    }
   ],
   "source": [
    "df['tfidf']=tfidf_text\n",
    "df['tfidf_clusters']=pred\n",
    "df.head()"
   ]
  },
  {
   "cell_type": "code",
   "execution_count": 28,
   "metadata": {},
   "outputs": [],
   "source": [
    "top_tf_idf_df = pd.DataFrame(tfidf_text.todense()).groupby(df['tfidf_clusters']).mean()"
   ]
  },
  {
   "cell_type": "code",
   "execution_count": 29,
   "metadata": {},
   "outputs": [
    {
     "data": {
      "text/html": [
       "<div>\n",
       "<style scoped>\n",
       "    .dataframe tbody tr th:only-of-type {\n",
       "        vertical-align: middle;\n",
       "    }\n",
       "\n",
       "    .dataframe tbody tr th {\n",
       "        vertical-align: top;\n",
       "    }\n",
       "\n",
       "    .dataframe thead th {\n",
       "        text-align: right;\n",
       "    }\n",
       "</style>\n",
       "<table border=\"1\" class=\"dataframe\">\n",
       "  <thead>\n",
       "    <tr style=\"text-align: right;\">\n",
       "      <th></th>\n",
       "      <th>0</th>\n",
       "      <th>1</th>\n",
       "      <th>2</th>\n",
       "      <th>3</th>\n",
       "      <th>4</th>\n",
       "      <th>5</th>\n",
       "      <th>6</th>\n",
       "      <th>7</th>\n",
       "      <th>8</th>\n",
       "      <th>9</th>\n",
       "      <th>...</th>\n",
       "      <th>25974</th>\n",
       "      <th>25975</th>\n",
       "      <th>25976</th>\n",
       "      <th>25977</th>\n",
       "      <th>25978</th>\n",
       "      <th>25979</th>\n",
       "      <th>25980</th>\n",
       "      <th>25981</th>\n",
       "      <th>25982</th>\n",
       "      <th>25983</th>\n",
       "    </tr>\n",
       "    <tr>\n",
       "      <th>tfidf_clusters</th>\n",
       "      <th></th>\n",
       "      <th></th>\n",
       "      <th></th>\n",
       "      <th></th>\n",
       "      <th></th>\n",
       "      <th></th>\n",
       "      <th></th>\n",
       "      <th></th>\n",
       "      <th></th>\n",
       "      <th></th>\n",
       "      <th></th>\n",
       "      <th></th>\n",
       "      <th></th>\n",
       "      <th></th>\n",
       "      <th></th>\n",
       "      <th></th>\n",
       "      <th></th>\n",
       "      <th></th>\n",
       "      <th></th>\n",
       "      <th></th>\n",
       "      <th></th>\n",
       "    </tr>\n",
       "  </thead>\n",
       "  <tbody>\n",
       "    <tr>\n",
       "      <th>0</th>\n",
       "      <td>0.000000</td>\n",
       "      <td>0.000000</td>\n",
       "      <td>0.000000</td>\n",
       "      <td>0.000000</td>\n",
       "      <td>0.000000</td>\n",
       "      <td>0.000000</td>\n",
       "      <td>0.000000</td>\n",
       "      <td>0.000000</td>\n",
       "      <td>0.000000</td>\n",
       "      <td>0.000000</td>\n",
       "      <td>...</td>\n",
       "      <td>0.000000</td>\n",
       "      <td>0.000000</td>\n",
       "      <td>0.000000</td>\n",
       "      <td>0.000000</td>\n",
       "      <td>0.000000</td>\n",
       "      <td>0.000000</td>\n",
       "      <td>0.000000</td>\n",
       "      <td>0.000000</td>\n",
       "      <td>0.000000</td>\n",
       "      <td>0.000000</td>\n",
       "    </tr>\n",
       "    <tr>\n",
       "      <th>1</th>\n",
       "      <td>0.000000</td>\n",
       "      <td>0.000000</td>\n",
       "      <td>0.000000</td>\n",
       "      <td>0.000000</td>\n",
       "      <td>0.000000</td>\n",
       "      <td>0.000000</td>\n",
       "      <td>0.000000</td>\n",
       "      <td>0.000000</td>\n",
       "      <td>0.000000</td>\n",
       "      <td>0.000000</td>\n",
       "      <td>...</td>\n",
       "      <td>0.000000</td>\n",
       "      <td>0.000000</td>\n",
       "      <td>0.000000</td>\n",
       "      <td>0.000000</td>\n",
       "      <td>0.000000</td>\n",
       "      <td>0.000000</td>\n",
       "      <td>0.000000</td>\n",
       "      <td>0.000000</td>\n",
       "      <td>0.000000</td>\n",
       "      <td>0.000000</td>\n",
       "    </tr>\n",
       "    <tr>\n",
       "      <th>2</th>\n",
       "      <td>0.000098</td>\n",
       "      <td>0.000042</td>\n",
       "      <td>0.000000</td>\n",
       "      <td>0.000111</td>\n",
       "      <td>0.000000</td>\n",
       "      <td>0.000529</td>\n",
       "      <td>0.000113</td>\n",
       "      <td>0.000109</td>\n",
       "      <td>0.000046</td>\n",
       "      <td>0.000052</td>\n",
       "      <td>...</td>\n",
       "      <td>0.000133</td>\n",
       "      <td>0.000000</td>\n",
       "      <td>0.000127</td>\n",
       "      <td>0.000537</td>\n",
       "      <td>0.000127</td>\n",
       "      <td>0.000167</td>\n",
       "      <td>0.000000</td>\n",
       "      <td>0.000000</td>\n",
       "      <td>0.000000</td>\n",
       "      <td>0.000118</td>\n",
       "    </tr>\n",
       "    <tr>\n",
       "      <th>3</th>\n",
       "      <td>0.000000</td>\n",
       "      <td>0.000000</td>\n",
       "      <td>0.000000</td>\n",
       "      <td>0.000000</td>\n",
       "      <td>0.000000</td>\n",
       "      <td>0.000000</td>\n",
       "      <td>0.000000</td>\n",
       "      <td>0.000000</td>\n",
       "      <td>0.000000</td>\n",
       "      <td>0.000000</td>\n",
       "      <td>...</td>\n",
       "      <td>0.000000</td>\n",
       "      <td>0.000000</td>\n",
       "      <td>0.000000</td>\n",
       "      <td>0.000000</td>\n",
       "      <td>0.000000</td>\n",
       "      <td>0.000000</td>\n",
       "      <td>0.000000</td>\n",
       "      <td>0.000000</td>\n",
       "      <td>0.000000</td>\n",
       "      <td>0.000000</td>\n",
       "    </tr>\n",
       "    <tr>\n",
       "      <th>4</th>\n",
       "      <td>0.000000</td>\n",
       "      <td>0.000000</td>\n",
       "      <td>0.000083</td>\n",
       "      <td>0.000000</td>\n",
       "      <td>0.000126</td>\n",
       "      <td>0.000135</td>\n",
       "      <td>0.000000</td>\n",
       "      <td>0.000000</td>\n",
       "      <td>0.000000</td>\n",
       "      <td>0.000000</td>\n",
       "      <td>...</td>\n",
       "      <td>0.000000</td>\n",
       "      <td>0.000166</td>\n",
       "      <td>0.000000</td>\n",
       "      <td>0.000661</td>\n",
       "      <td>0.000000</td>\n",
       "      <td>0.000000</td>\n",
       "      <td>0.000166</td>\n",
       "      <td>0.000166</td>\n",
       "      <td>0.000166</td>\n",
       "      <td>0.000000</td>\n",
       "    </tr>\n",
       "  </tbody>\n",
       "</table>\n",
       "<p>5 rows × 25984 columns</p>\n",
       "</div>"
      ],
      "text/plain": [
       "                   0         1         2         3         4         5      \\\n",
       "tfidf_clusters                                                               \n",
       "0               0.000000  0.000000  0.000000  0.000000  0.000000  0.000000   \n",
       "1               0.000000  0.000000  0.000000  0.000000  0.000000  0.000000   \n",
       "2               0.000098  0.000042  0.000000  0.000111  0.000000  0.000529   \n",
       "3               0.000000  0.000000  0.000000  0.000000  0.000000  0.000000   \n",
       "4               0.000000  0.000000  0.000083  0.000000  0.000126  0.000135   \n",
       "\n",
       "                   6         7         8         9        ...        25974  \\\n",
       "tfidf_clusters                                            ...                \n",
       "0               0.000000  0.000000  0.000000  0.000000    ...     0.000000   \n",
       "1               0.000000  0.000000  0.000000  0.000000    ...     0.000000   \n",
       "2               0.000113  0.000109  0.000046  0.000052    ...     0.000133   \n",
       "3               0.000000  0.000000  0.000000  0.000000    ...     0.000000   \n",
       "4               0.000000  0.000000  0.000000  0.000000    ...     0.000000   \n",
       "\n",
       "                   25975     25976     25977     25978     25979     25980  \\\n",
       "tfidf_clusters                                                               \n",
       "0               0.000000  0.000000  0.000000  0.000000  0.000000  0.000000   \n",
       "1               0.000000  0.000000  0.000000  0.000000  0.000000  0.000000   \n",
       "2               0.000000  0.000127  0.000537  0.000127  0.000167  0.000000   \n",
       "3               0.000000  0.000000  0.000000  0.000000  0.000000  0.000000   \n",
       "4               0.000166  0.000000  0.000661  0.000000  0.000000  0.000166   \n",
       "\n",
       "                   25981     25982     25983  \n",
       "tfidf_clusters                                \n",
       "0               0.000000  0.000000  0.000000  \n",
       "1               0.000000  0.000000  0.000000  \n",
       "2               0.000000  0.000000  0.000118  \n",
       "3               0.000000  0.000000  0.000000  \n",
       "4               0.000166  0.000166  0.000000  \n",
       "\n",
       "[5 rows x 25984 columns]"
      ]
     },
     "execution_count": 29,
     "metadata": {},
     "output_type": "execute_result"
    }
   ],
   "source": [
    "top_tf_idf_df"
   ]
  },
  {
   "cell_type": "code",
   "execution_count": 30,
   "metadata": {},
   "outputs": [
    {
     "name": "stdout",
     "output_type": "stream",
     "text": [
      "\n",
      "Cluster 0\n",
      "say,time,musk,teslamotors,tsla,video,future,using,auto,drive,hardware,summon,roadster,applewatch,new,motor,apple,teslamodelsforum,selfdriving,watch,electric,model,http,car,tesla\n",
      "\n",
      "Cluster 1\n",
      "gefahren,via,new,independent,connect,mindfortune,get,tech,gain,continuing,energy,independence,http,tesla,join,access,patent,topsecret,diy,forum,video,support,community,alternativeenergy,blueprint\n",
      "\n",
      "Cluster 2\n",
      "first,via,great,today,see,would,teslamotors,think,time,que,day,love,new,get,spacex,like,musk,elon,nustolympiad,tsla,one,edison,elonmusk,http,tesla\n",
      "\n",
      "Cluster 3\n",
      "gefährlich,gehen,gehad,geil,geinus,gegner,gegevens,gegenüber,gegenzug,gegen,gegeben,gefühl,gejubel,gekauft,gehören,gehört,know,selling,motor,video,electric,car,model,http,tesla\n",
      "\n",
      "Cluster 4\n",
      "news,get,power,first,bbc,bitlybhmkti,one,elon,roadster,motor,battery,musk,bitlybihewv,tsla,elonmusk,teslamotors,google,electric,via,new,model,droid,car,http,tesla\n"
     ]
    }
   ],
   "source": [
    "for i,r in top_tf_idf_df.iterrows():\n",
    "    print(\"\\nCluster {}\".format(i))\n",
    "    print(','.join([tfidf_vectorizer.get_feature_names()[t] for t in np.argsort(r)[-25:]]))"
   ]
  },
  {
   "cell_type": "code",
   "execution_count": 35,
   "metadata": {},
   "outputs": [
    {
     "name": "stdout",
     "output_type": "stream",
     "text": [
      "\n",
      "Cluster 0\n",
      "motor,apple,teslamodelsforum,selfdriving,watch,electric,model,http,car,tesla\n",
      "\n",
      "Cluster 1\n",
      "access,patent,topsecret,diy,forum,video,support,community,alternativeenergy,blueprint\n",
      "\n",
      "Cluster 2\n",
      "like,musk,elon,nustolympiad,tsla,one,edison,elonmusk,http,tesla\n",
      "\n",
      "Cluster 3\n",
      "gehört,know,selling,motor,video,electric,car,model,http,tesla\n",
      "\n",
      "Cluster 4\n",
      "teslamotors,google,electric,via,new,model,droid,car,http,tesla\n"
     ]
    }
   ],
   "source": [
    "for i,r in top_tf_idf_df.iterrows():\n",
    "    print(\"\\nCluster {}\".format(i))\n",
    "    print(','.join([tfidf_vectorizer.get_feature_names()[t] for t in np.argsort(r)[-10:]]))"
   ]
  },
  {
   "cell_type": "code",
   "execution_count": null,
   "metadata": {},
   "outputs": [],
   "source": []
  }
 ],
 "metadata": {
  "kernelspec": {
   "display_name": "Python 3",
   "language": "python",
   "name": "python3"
  },
  "language_info": {
   "codemirror_mode": {
    "name": "ipython",
    "version": 3
   },
   "file_extension": ".py",
   "mimetype": "text/x-python",
   "name": "python",
   "nbconvert_exporter": "python",
   "pygments_lexer": "ipython3",
   "version": "3.7.2"
  }
 },
 "nbformat": 4,
 "nbformat_minor": 2
}
